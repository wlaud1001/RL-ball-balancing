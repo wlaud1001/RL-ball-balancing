{
 "cells": [
  {
   "cell_type": "code",
   "execution_count": 1,
   "metadata": {},
   "outputs": [],
   "source": [
    "import gym\n",
    "import torch\n",
    "import torch.nn as nn\n",
    "import torch.nn.functional as F\n",
    "import torch.optim as optim\n",
    "import matplotlib.pyplot as plt\n",
    "import numpy as np\n",
    "import time\n",
    "import random\n",
    "from collections import namedtuple\n",
    "from PIL import Image\n",
    "\n",
    "import torchvision.transforms as T"
   ]
  },
  {
   "cell_type": "code",
   "execution_count": 2,
   "metadata": {},
   "outputs": [],
   "source": [
    "env = gym.make('Pendulum-v0')\n",
    "env.reset()\n",
    "env._max_episode_steps = 200"
   ]
  },
  {
   "cell_type": "code",
   "execution_count": 3,
   "metadata": {},
   "outputs": [],
   "source": [
    "device = torch.device('cuda' if torch.cuda.is_available() else 'cpu')\n",
    "dis = 0.98"
   ]
  },
  {
   "cell_type": "code",
   "execution_count": 4,
   "metadata": {},
   "outputs": [
    {
     "data": {
      "text/plain": [
       "device(type='cuda')"
      ]
     },
     "execution_count": 4,
     "metadata": {},
     "output_type": "execute_result"
    }
   ],
   "source": [
    "device"
   ]
  },
  {
   "cell_type": "code",
   "execution_count": 5,
   "metadata": {},
   "outputs": [],
   "source": [
    "Transition = namedtuple('Transition', ('state', 'action', 'next_state', 'reward', 'done'))\n",
    "\n",
    "class ReplayMemory(object):\n",
    "    def __init__(self, capacity):\n",
    "        self.capacity = capacity\n",
    "        self.memory = []\n",
    "        self.position = 0\n",
    "\n",
    "    def push(self, **kargs):\n",
    "        \"\"\"Saves a transition.\"\"\"\n",
    "        if len(self.memory) < self.capacity:\n",
    "            self.memory.append(None)\n",
    "        self.memory[self.position] = Transition(**kargs)\n",
    "        self.position = (self.position + 1) % self.capacity\n",
    "\n",
    "    def sample(self, batch_size):\n",
    "        batches = random.sample(self.memory, batch_size)\n",
    "        batch_state = torch.tensor([b.state for b in batches]).float().reshape(batch_size, -1).to(device)\n",
    "        batch_next_state = torch.tensor([b.next_state for b in batches]).float().reshape(batch_size, -1).to(device)\n",
    "        batch_action = torch.tensor([b.action for b in batches]).float().reshape(batch_size, -1).to(device)\n",
    "        batch_reward = torch.tensor([b.reward for b in batches]).float().reshape(batch_size, -1).to(device)\n",
    "        batch_done = torch.tensor([b.done for b in batches]).float().reshape(batch_size, -1).to(device)\n",
    "        return batch_state, batch_action, batch_next_state, batch_reward, batch_done\n",
    "\n",
    "    def __len__(self):\n",
    "        return len(self.memory)"
   ]
  },
  {
   "cell_type": "code",
   "execution_count": 6,
   "metadata": {},
   "outputs": [],
   "source": [
    "class Actor(nn.Module):\n",
    "    def __init__(\n",
    "        self,\n",
    "        input_dim=env.observation_space.shape[0],\n",
    "        output_dim=env.action_space.shape[0],\n",
    "        hidden_list=[400,300],\n",
    "        lr=1e-3\n",
    "    ):\n",
    "        super(Actor, self).__init__()\n",
    "        \n",
    "        layers = []\n",
    "        for i in range(len(hidden_list)):\n",
    "            if i == 0:\n",
    "                layers.append(nn.Linear(input_dim, hidden_list[i]))\n",
    "            else:\n",
    "                layers.append(nn.Linear(hidden_list[i - 1], hidden_list[i]))\n",
    "            layers.append(nn.ReLU())\n",
    "        layers.append(nn.Linear(hidden_list[-1], output_dim))\n",
    "        layers.append(nn.Tanh())\n",
    "        \n",
    "        self.layers = nn.Sequential(*layers)\n",
    "        self.optimizer = optim.Adam(self.parameters(), lr=lr)\n",
    "        \n",
    "    def forward(self, x):\n",
    "        x = self.layers(x)\n",
    "        return x\n",
    "    \n",
    "    def iteration(self, loss):\n",
    "        self.optimizer.zero_grad()\n",
    "        loss.backward()\n",
    "        self.optimizer.step()\n",
    "    \n",
    "        \n",
    "class Critic(nn.Module):\n",
    "    def __init__(\n",
    "        self, \n",
    "        input_dim=env.observation_space.shape[0] + env.action_space.shape[0],\n",
    "        output_dim=1, \n",
    "        hidden_list=[400,300],\n",
    "        lr=1e-2\n",
    "    ):\n",
    "        super(Critic, self).__init__()\n",
    "        \n",
    "        layers = []\n",
    "        for i in range(len(hidden_list)):\n",
    "            if i == 0:\n",
    "                layers.append(nn.Linear(input_dim, hidden_list[i]))\n",
    "            else:\n",
    "                layers.append(nn.Linear(hidden_list[i - 1], hidden_list[i]))\n",
    "            layers.append(nn.ReLU())\n",
    "        layers.append(nn.Linear(hidden_list[-1], output_dim))\n",
    "\n",
    "        self.layers = nn.Sequential(*layers)\n",
    "        self.optimizer = optim.Adam(self.parameters(), lr=lr)\n",
    "        \n",
    "    def forward(self, x):\n",
    "        x = self.layers(x)\n",
    "        return x\n",
    "\n",
    "    def iteration(self, loss):\n",
    "        self.optimizer.zero_grad()\n",
    "        loss.backward()\n",
    "        self.optimizer.step()\n",
    "        "
   ]
  },
  {
   "cell_type": "code",
   "execution_count": 7,
   "metadata": {},
   "outputs": [],
   "source": [
    "def init_target_params(model, model_target):\n",
    "    model_target.load_state_dict(model.state_dict())"
   ]
  },
  {
   "cell_type": "code",
   "execution_count": 8,
   "metadata": {},
   "outputs": [],
   "source": [
    "def select_action(state, exploration=True, expl_noise=0.05):\n",
    "    state = torch.tensor(state.reshape(1, -1)).float().to(device)\n",
    "    action = actor(state).detach().item()\n",
    "    \n",
    "    if exploration:\n",
    "        action = action + torch.normal(0, 2 * expl_noise, (1,)).item()\n",
    "        \n",
    "    return action\n",
    "    "
   ]
  },
  {
   "cell_type": "code",
   "execution_count": 9,
   "metadata": {},
   "outputs": [],
   "source": [
    "def smooth_target_params(model, model_target, tau=0.01):\n",
    "    for param, target_param in zip(model.parameters(), model_target.parameters()):\n",
    "        target_param.data.copy_(tau * param.data + (1 - tau) * target_param.data)"
   ]
  },
  {
   "cell_type": "code",
   "execution_count": 10,
   "metadata": {},
   "outputs": [],
   "source": [
    "def train(replay_buffer, batch_size=64):\n",
    "    state, action, next_state, reward, done = replay_buffer.sample(batch_size)\n",
    "    \n",
    "    with torch.no_grad():\n",
    "        target_Q = critic_target(torch.cat((next_state, actor_target(next_state)), 1))\n",
    "    target_Q = reward + dis * target_Q\n",
    "    current_Q = critic(torch.cat((state, action), 1))\n",
    "\n",
    "    critic_loss = F.mse_loss(current_Q, target_Q)\n",
    "    critic.iteration(critic_loss)\n",
    "    \n",
    "    actor_loss = -critic(torch.cat((state, actor(state)), 1)).mean()\n",
    "    actor.iteration(actor_loss)\n",
    "    \n",
    "    smooth_target_params(critic, critic_target)\n",
    "    smooth_target_params(actor, actor_target)\n",
    "    "
   ]
  },
  {
   "cell_type": "code",
   "execution_count": 11,
   "metadata": {},
   "outputs": [],
   "source": [
    "def train_episode(batch_size=64):\n",
    "    num_steps = 200\n",
    "    rAll = 0\n",
    "    step = 0\n",
    "    state = env.reset()\n",
    "    for step in range(num_steps):\n",
    "        action = select_action(state)\n",
    "#         env.render()\n",
    "        next_state, reward, done, _ = env.step([action])\n",
    "        \n",
    "        t = {\n",
    "            'state': state,\n",
    "            'action': action,\n",
    "            'next_state': next_state,\n",
    "            'reward': reward if not done else -100,\n",
    "            'done': done,\n",
    "        }\n",
    "        memory.push(**t)\n",
    "        \n",
    "        state = next_state\n",
    "        rAll += reward\n",
    "        \n",
    "        if done:\n",
    "            break\n",
    "        \n",
    "        if len(memory) > batch_size:\n",
    "            train(memory, batch_size)\n",
    "            \n",
    "    return rAll"
   ]
  },
  {
   "cell_type": "code",
   "execution_count": 12,
   "metadata": {},
   "outputs": [
    {
     "name": "stdout",
     "output_type": "stream",
     "text": [
      "ep: 0, reward: -79.81505016489174\n",
      "ep: 20, reward: -1215.8482168461958\n",
      "ep: 40, reward: -736.1754322956929\n",
      "ep: 60, reward: -429.6742439005904\n",
      "ep: 80, reward: -224.92266194842597\n",
      "ep: 100, reward: -255.2165775515826\n",
      "ep: 120, reward: -248.96378934890217\n",
      "ep: 140, reward: -254.33592350094523\n",
      "ep: 160, reward: -207.11657070793822\n",
      "ep: 180, reward: -218.8788838936191\n"
     ]
    }
   ],
   "source": [
    "critic, critic_target = Critic().to(device), Critic().to(device)\n",
    "actor, actor_target = Actor().to(device), Actor().to(device)\n",
    "\n",
    "init_target_params(actor, actor_target)\n",
    "init_target_params(critic, critic_target)\n",
    "\n",
    "actor.train()\n",
    "critic.train()\n",
    "\n",
    "actor_target.eval()\n",
    "critic_target.eval()\n",
    "\n",
    "memory = ReplayMemory(1000000)\n",
    "\n",
    "rAll = 0.0\n",
    "log_ep = 20\n",
    "best_reward = -1000\n",
    "for i in range(200):\n",
    "    reward = train_episode()\n",
    "    rAll += reward\n",
    "    \n",
    "    if i % log_ep == 0:\n",
    "        print(f\"\"\"ep: {i}, reward: {rAll / log_ep}\"\"\")\n",
    "        rAll = 0\n",
    "    \n",
    "    if reward > best_reward:\n",
    "        best_reward = reward\n",
    "        best_actor = actor\n",
    "        best_critic = critic\n",
    "        \n",
    "    "
   ]
  },
  {
   "cell_type": "code",
   "execution_count": 13,
   "metadata": {},
   "outputs": [
    {
     "data": {
      "text/plain": [
       "Actor(\n",
       "  (layers): Sequential(\n",
       "    (0): Linear(in_features=3, out_features=400, bias=True)\n",
       "    (1): ReLU()\n",
       "    (2): Linear(in_features=400, out_features=300, bias=True)\n",
       "    (3): ReLU()\n",
       "    (4): Linear(in_features=300, out_features=1, bias=True)\n",
       "    (5): Tanh()\n",
       "  )\n",
       ")"
      ]
     },
     "execution_count": 13,
     "metadata": {},
     "output_type": "execute_result"
    }
   ],
   "source": [
    "best_actor"
   ]
  },
  {
   "cell_type": "code",
   "execution_count": 15,
   "metadata": {},
   "outputs": [],
   "source": [
    "env._max_episode_steps = 500"
   ]
  },
  {
   "cell_type": "code",
   "execution_count": 16,
   "metadata": {},
   "outputs": [],
   "source": [
    "state = env.reset()\n",
    "\n",
    "for i in range(500):\n",
    "    env.render()\n",
    "    action = best_actor(torch.tensor(state).float().to(device)).detach().cpu().item()\n",
    "    next_state, reward, done, _ = env.step([action])\n",
    "    state = next_state\n",
    "    "
   ]
  },
  {
   "cell_type": "code",
   "execution_count": null,
   "metadata": {},
   "outputs": [],
   "source": []
  }
 ],
 "metadata": {
  "kernelspec": {
   "display_name": "Python 3",
   "language": "python",
   "name": "python3"
  },
  "language_info": {
   "codemirror_mode": {
    "name": "ipython",
    "version": 3
   },
   "file_extension": ".py",
   "mimetype": "text/x-python",
   "name": "python",
   "nbconvert_exporter": "python",
   "pygments_lexer": "ipython3",
   "version": "3.7.3"
  }
 },
 "nbformat": 4,
 "nbformat_minor": 4
}
